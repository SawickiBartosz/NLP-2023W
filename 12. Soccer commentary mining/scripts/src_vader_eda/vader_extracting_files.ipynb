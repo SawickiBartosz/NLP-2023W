{
 "cells": [
  {
   "cell_type": "code",
   "execution_count": 1,
   "metadata": {},
   "outputs": [],
   "source": [
    "import os\n",
    "import json\n",
    "import pandas as pd\n",
    "import datetime\n",
    "import re\n",
    "\n",
    "from vaderSentiment.vaderSentiment import SentimentIntensityAnalyzer\n",
    "from vader_sentences_processing import SentimentIntensityFromFile, Sentence"
   ]
  },
  {
   "cell_type": "markdown",
   "metadata": {},
   "source": [
    "The following code uploads files for available leagues apart from Premier League (we extracted the files within the main EDA notebook for Vader model analysis). We have decided to extract leagues separately in order to control each stage and check the correctness of the returned dataframes and .csv files. We have created two classes for extracting and storing information about the files: SentimentIntensityFromFile, Sentence (see the file *vader_sentences_processing.py*)."
   ]
  },
  {
   "cell_type": "markdown",
   "metadata": {},
   "source": [
    "# Champions League"
   ]
  },
  {
   "cell_type": "code",
   "execution_count": 2,
   "metadata": {},
   "outputs": [
    {
     "name": "stdout",
     "output_type": "stream",
     "text": [
      "transcriptions\\europe_uefa-champions-league\\2014-2015\\2014-11-04 - 20-00 Zenit Petersburg 1 - 2 Bayer Leverkusen\\1_224p_medium_asr.json\n",
      "transcriptions\\europe_uefa-champions-league\\2014-2015\\2014-12-10 - 22-45 Barcelona 3 - 1 Paris SG\\2_224p_medium_asr.json\n",
      "transcriptions\\europe_uefa-champions-league\\2014-2015\\2015-03-18 - 22-45 Dortmund 0 - 3 Juventus\\1_224p_medium_asr.json\n",
      "transcriptions\\europe_uefa-champions-league\\2015-2016\\2015-09-15 - 21-45 Galatasaray 0 - 2 Atl. Madrid\\2_224p_medium_asr.json\n",
      "transcriptions\\europe_uefa-champions-league\\2015-2016\\2015-09-29 - 21-45 Barcelona 2 - 1 Bayer Leverkusen\\1_224p_medium_asr.json\n",
      "transcriptions\\europe_uefa-champions-league\\2015-2016\\2015-11-03 - 22-45 Shakhtar Donetsk 4 - 0 Malmo FF\\2_224p_medium_asr.json\n",
      "transcriptions\\europe_uefa-champions-league\\2015-2016\\2015-11-25 - 22-45 Atl. Madrid 2 - 0 Galatasaray\\1_224p_medium_asr.json\n",
      "transcriptions\\europe_uefa-champions-league\\2016-2017\\2016-10-19 - 21-45 Barcelona 4 - 0 Manchester City\\2_224p_medium_asr.json\n",
      "transcriptions\\europe_uefa-champions-league\\2016-2017\\2017-03-07 - 18-00 Arsenal 1 - 5 Bayern\\1_224p_medium_asr.json\n"
     ]
    }
   ],
   "source": [
    "file_number=0\n",
    "files_data2 = []\n",
    "\n",
    "for directory, dirnames, filenames in os.walk(r'transcriptions\\europe_uefa-champions-league'):\n",
    "    if filenames==[]:\n",
    "        continue\n",
    "    if 'other' in directory:\n",
    "        continue\n",
    "\n",
    "    for i in filenames:\n",
    "        if i.endswith('.csv'):\n",
    "            continue\n",
    "        if file_number%25==0:\n",
    "            print(os.path.join(directory,i))\n",
    "\n",
    "        file_number += 1\n",
    "        curr_file = SentimentIntensityFromFile(filename=i, path=directory)\n",
    "        curr_file.load_json()\n",
    "        curr_file.get_sentiments_from_sentences()\n",
    "        files_data2.append(curr_file)"
   ]
  },
  {
   "cell_type": "code",
   "execution_count": 3,
   "metadata": {},
   "outputs": [],
   "source": [
    "start_time = []\n",
    "end_time = []\n",
    "sentences_text = []\n",
    "sentiment_positive = []\n",
    "sentiment_negative = []\n",
    "sentiment_neutral = []\n",
    "sentiment_compound = []\n",
    "folder_names = []\n",
    "languages_orig = []\n",
    "\n",
    "for file in files_data2:    \n",
    "    for sent in file.sentences:\n",
    "        start_time.append(sent.start_time)\n",
    "        end_time.append(sent.end_time)\n",
    "        sentences_text.append(sent.text)\n",
    "        sentiment_positive.append(sent.positive)\n",
    "        sentiment_negative.append(sent.negative)\n",
    "        sentiment_neutral.append(sent.neutral)\n",
    "        sentiment_compound.append(sent.compound)\n",
    "        folder_names.append(file.folder_name)\n",
    "\n",
    "#preparing dataframe with information from the files\n",
    "df_champ_league = pd.DataFrame({'MATCH_FOLDER':folder_names, 'START_TIME':start_time,\n",
    "                    'END_TIME':end_time, 'TEXT':sentences_text,\n",
    "                    'POSITIVE':sentiment_positive,\n",
    "                    'NEGATIVE':sentiment_negative,\n",
    "                    'NEUTRAL':sentiment_neutral,\n",
    "                    'COMPOUND':sentiment_compound})\n"
   ]
  },
  {
   "cell_type": "code",
   "execution_count": 4,
   "metadata": {},
   "outputs": [
    {
     "data": {
      "text/plain": [
       "216"
      ]
     },
     "execution_count": 4,
     "metadata": {},
     "output_type": "execute_result"
    }
   ],
   "source": [
    "#number of files processed on that stage\n",
    "file_number"
   ]
  },
  {
   "cell_type": "code",
   "execution_count": 6,
   "metadata": {},
   "outputs": [],
   "source": [
    "#exporting the results to the .csv file\n",
    "df_champ_league.to_csv(r'transcriptions\\europe_uefa-champions-league\\europe_uefa-champions-league_sentences_vader.csv', sep=';')"
   ]
  },
  {
   "cell_type": "markdown",
   "metadata": {},
   "source": [
    "# Ligue 1"
   ]
  },
  {
   "cell_type": "code",
   "execution_count": 7,
   "metadata": {},
   "outputs": [
    {
     "name": "stdout",
     "output_type": "stream",
     "text": [
      "transcriptions\\france_ligue-1\\2014-2015\\2015-04-05 - 22-00 Marseille 2 - 3 Paris SG\\1_224p_medium_asr.json\n",
      "transcriptions\\france_ligue-1\\2016-2017\\2016-10-01 - 18-00 Paris SG 2 - 0 Bordeaux\\2_224p_medium_asr.json\n",
      "transcriptions\\france_ligue-1\\2016-2017\\2016-12-17 - 19-00 Guingamp 2 - 1 Paris SG\\1_224p_medium_asr.json\n",
      "transcriptions\\france_ligue-1\\2016-2017\\2017-04-02 - 18-00 Nice 2 - 1 Bordeaux\\2_224p_medium_asr.json\n"
     ]
    }
   ],
   "source": [
    "file_number=0\n",
    "files_data3 = []\n",
    "\n",
    "for directory, dirnames, filenames in os.walk(r'transcriptions\\france_ligue-1'):\n",
    "    if filenames==[]:\n",
    "        continue\n",
    "    if 'other' in directory:\n",
    "        continue\n",
    "\n",
    "    for i in filenames:\n",
    "        if i.endswith('.csv'):\n",
    "            continue\n",
    "        if file_number%25==0:\n",
    "            print(os.path.join(directory,i))\n",
    "\n",
    "        file_number += 1\n",
    "        curr_file = SentimentIntensityFromFile(filename=i, path=directory)\n",
    "        curr_file.load_json()\n",
    "        curr_file.get_sentiments_from_sentences()\n",
    "        files_data3.append(curr_file)"
   ]
  },
  {
   "cell_type": "code",
   "execution_count": 8,
   "metadata": {},
   "outputs": [
    {
     "data": {
      "text/plain": [
       "94"
      ]
     },
     "execution_count": 8,
     "metadata": {},
     "output_type": "execute_result"
    }
   ],
   "source": [
    "#number of files processed for Ligue 1\n",
    "file_number"
   ]
  },
  {
   "cell_type": "code",
   "execution_count": 9,
   "metadata": {},
   "outputs": [],
   "source": [
    "start_time = []\n",
    "end_time = []\n",
    "sentences_text = []\n",
    "sentiment_positive = []\n",
    "sentiment_negative = []\n",
    "sentiment_neutral = []\n",
    "sentiment_compound = []\n",
    "folder_names = []\n",
    "languages_orig = []\n",
    "\n",
    "for file in files_data3:    \n",
    "    for sent in file.sentences:\n",
    "        start_time.append(sent.start_time)\n",
    "        end_time.append(sent.end_time)\n",
    "        sentences_text.append(sent.text)\n",
    "        sentiment_positive.append(sent.positive)\n",
    "        sentiment_negative.append(sent.negative)\n",
    "        sentiment_neutral.append(sent.neutral)\n",
    "        sentiment_compound.append(sent.compound)\n",
    "        folder_names.append(file.folder_name)\n",
    "\n",
    "df_league1 = pd.DataFrame({'MATCH_FOLDER':folder_names, 'START_TIME':start_time,\n",
    "                    'END_TIME':end_time, 'TEXT':sentences_text,\n",
    "                    'POSITIVE':sentiment_positive,\n",
    "                    'NEGATIVE':sentiment_negative,\n",
    "                    'NEUTRAL':sentiment_neutral,\n",
    "                    'COMPOUND':sentiment_compound})\n"
   ]
  },
  {
   "cell_type": "code",
   "execution_count": 12,
   "metadata": {},
   "outputs": [],
   "source": [
    "#export dataframe to .csv file for future analysis\n",
    "df_league1.to_csv(r'transcriptions\\france_ligue-1\\france_ligue-1_sentences_vader.csv', sep=';')"
   ]
  },
  {
   "cell_type": "markdown",
   "metadata": {},
   "source": [
    "# Bundesliga"
   ]
  },
  {
   "cell_type": "code",
   "execution_count": 13,
   "metadata": {},
   "outputs": [
    {
     "name": "stdout",
     "output_type": "stream",
     "text": [
      "transcriptions\\germany_bundesliga\\2014-2015\\2015-02-21 - 17-30 Paderborn 0 - 6 Bayern Munich\\1_224p_medium_asr.json\n",
      "transcriptions\\germany_bundesliga\\2015-2016\\2015-09-19 - 16-30 Darmstadt 0 - 3 Bayern Munich\\2_224p_medium_asr.json\n",
      "transcriptions\\germany_bundesliga\\2015-2016\\2016-04-23 - 16-30 Hertha Berlin 0 - 2 Bayern Munich\\1_224p_medium_asr.json\n",
      "transcriptions\\germany_bundesliga\\2016-2017\\2016-11-19 - 20-30 Dortmund 1 - 0 Bayern Munich\\2_224p_medium_asr.json\n",
      "transcriptions\\germany_bundesliga\\2016-2017\\2017-02-11 - 17-30 Darmstadt 2 - 1 Dortmund\\1_224p_medium_asr.json\n"
     ]
    }
   ],
   "source": [
    "file_number=0\n",
    "files_data4 = []\n",
    "\n",
    "for directory, dirnames, filenames in os.walk(r'transcriptions\\germany_bundesliga'):\n",
    "    if filenames==[]:\n",
    "        continue\n",
    "    if 'other' in directory:\n",
    "        continue\n",
    "\n",
    "    for i in filenames:\n",
    "        if i.endswith('.csv'):\n",
    "            continue\n",
    "        if file_number%25==0:\n",
    "            print(os.path.join(directory,i))\n",
    "\n",
    "        file_number += 1\n",
    "        curr_file = SentimentIntensityFromFile(filename=i, path=directory)\n",
    "        curr_file.load_json()\n",
    "        curr_file.get_sentiments_from_sentences()\n",
    "        files_data4.append(curr_file)"
   ]
  },
  {
   "cell_type": "code",
   "execution_count": 16,
   "metadata": {},
   "outputs": [],
   "source": [
    "start_time = []\n",
    "end_time = []\n",
    "sentences_text = []\n",
    "sentiment_positive = []\n",
    "sentiment_negative = []\n",
    "sentiment_neutral = []\n",
    "sentiment_compound = []\n",
    "folder_names = []\n",
    "languages_orig = []\n",
    "\n",
    "for file in files_data4:    \n",
    "    for sent in file.sentences:\n",
    "        start_time.append(sent.start_time)\n",
    "        end_time.append(sent.end_time)\n",
    "        sentences_text.append(sent.text)\n",
    "        sentiment_positive.append(sent.positive)\n",
    "        sentiment_negative.append(sent.negative)\n",
    "        sentiment_neutral.append(sent.neutral)\n",
    "        sentiment_compound.append(sent.compound)\n",
    "        folder_names.append(file.folder_name)\n",
    "\n",
    "df_bundesliga = pd.DataFrame({'MATCH_FOLDER':folder_names, 'START_TIME':start_time,\n",
    "                    'END_TIME':end_time, 'TEXT':sentences_text,\n",
    "                    'POSITIVE':sentiment_positive,\n",
    "                    'NEGATIVE':sentiment_negative,\n",
    "                    'NEUTRAL':sentiment_neutral,\n",
    "                    'COMPOUND':sentiment_compound})\n"
   ]
  },
  {
   "cell_type": "code",
   "execution_count": 17,
   "metadata": {},
   "outputs": [
    {
     "data": {
      "text/plain": [
       "((77314, 8), (38448, 8))"
      ]
     },
     "execution_count": 17,
     "metadata": {},
     "output_type": "execute_result"
    }
   ],
   "source": [
    "#comparing shapes of the dataframes - each observation contains one segment extracted by Whisper\n",
    "df_league1.shape, df_bundesliga.shape"
   ]
  },
  {
   "cell_type": "code",
   "execution_count": 18,
   "metadata": {},
   "outputs": [],
   "source": [
    "#export to csv\n",
    "df_bundesliga.to_csv(r'transcriptions\\germany_bundesliga\\germany_bundesliga_sentences_vader.csv', sep=';')"
   ]
  },
  {
   "cell_type": "markdown",
   "metadata": {},
   "source": [
    "# Serie A"
   ]
  },
  {
   "cell_type": "code",
   "execution_count": 19,
   "metadata": {},
   "outputs": [
    {
     "name": "stdout",
     "output_type": "stream",
     "text": [
      "transcriptions\\italy_serie-a\\2014-2015\\2015-02-15 - 14-30 AC Milan 1 - 1 Empoli\\1_224p_medium_asr.json\n",
      "transcriptions\\italy_serie-a\\2015-2016\\2015-09-20 - 13-30 Chievo 0 - 1 Inter\\2_224p_medium_asr.json\n",
      "transcriptions\\italy_serie-a\\2016-2017\\2016-08-28 - 21-45 Cagliari 2 - 2 AS Roma\\1_224p_medium_asr.json\n",
      "transcriptions\\italy_serie-a\\2016-2017\\2016-09-24 - 21-45 Napoli 2 - 0 Chievo\\2_224p_medium_asr.json\n",
      "transcriptions\\italy_serie-a\\2016-2017\\2016-10-30 - 17-00 Empoli 0 - 0 AS Roma\\1_224p_medium_asr.json\n",
      "transcriptions\\italy_serie-a\\2016-2017\\2016-12-12 - 23-00 AS Roma 1 - 0 AC Milan\\2_224p_medium_asr.json\n",
      "transcriptions\\italy_serie-a\\2016-2017\\2017-02-12 - 14-30 Crotone 0 - 2 AS Roma\\1_224p_medium_asr.json\n",
      "transcriptions\\italy_serie-a\\2016-2017\\2017-04-02 - 21-45 Napoli 1 - 1 Juventus\\2_224p_medium_asr.json\n",
      "transcriptions\\italy_serie-a\\2016-2017\\2017-05-20 - 19-00 Chievo 3 - 5 AS Roma\\1_224p_medium_asr.json\n"
     ]
    }
   ],
   "source": [
    "file_number=0\n",
    "files_data5 = []\n",
    "\n",
    "for directory, dirnames, filenames in os.walk(r'transcriptions\\italy_serie-a'):\n",
    "    if filenames==[]:\n",
    "        continue\n",
    "    if 'other' in directory:\n",
    "        continue\n",
    "\n",
    "    for i in filenames:\n",
    "        if i.endswith('.csv'):\n",
    "            continue\n",
    "        if file_number%25==0:\n",
    "            print(os.path.join(directory,i))\n",
    "\n",
    "        file_number += 1\n",
    "        curr_file = SentimentIntensityFromFile(filename=i, path=directory)\n",
    "        curr_file.load_json()\n",
    "        curr_file.get_sentiments_from_sentences()\n",
    "        files_data5.append(curr_file)"
   ]
  },
  {
   "cell_type": "code",
   "execution_count": 20,
   "metadata": {},
   "outputs": [
    {
     "data": {
      "text/plain": [
       "208"
      ]
     },
     "execution_count": 20,
     "metadata": {},
     "output_type": "execute_result"
    }
   ],
   "source": [
    "#number of filer for Serie A\n",
    "file_number"
   ]
  },
  {
   "cell_type": "code",
   "execution_count": 21,
   "metadata": {},
   "outputs": [],
   "source": [
    "start_time = []\n",
    "end_time = []\n",
    "sentences_text = []\n",
    "sentiment_positive = []\n",
    "sentiment_negative = []\n",
    "sentiment_neutral = []\n",
    "sentiment_compound = []\n",
    "folder_names = []\n",
    "languages_orig = []\n",
    "\n",
    "for file in files_data5:    \n",
    "    for sent in file.sentences:\n",
    "        start_time.append(sent.start_time)\n",
    "        end_time.append(sent.end_time)\n",
    "        sentences_text.append(sent.text)\n",
    "        sentiment_positive.append(sent.positive)\n",
    "        sentiment_negative.append(sent.negative)\n",
    "        sentiment_neutral.append(sent.neutral)\n",
    "        sentiment_compound.append(sent.compound)\n",
    "        folder_names.append(file.folder_name)\n",
    "\n",
    "df_serieA = pd.DataFrame({'MATCH_FOLDER':folder_names, 'START_TIME':start_time,\n",
    "                    'END_TIME':end_time, 'TEXT':sentences_text,\n",
    "                    'POSITIVE':sentiment_positive,\n",
    "                    'NEGATIVE':sentiment_negative,\n",
    "                    'NEUTRAL':sentiment_neutral,\n",
    "                    'COMPOUND':sentiment_compound})\n"
   ]
  },
  {
   "cell_type": "code",
   "execution_count": 22,
   "metadata": {},
   "outputs": [],
   "source": [
    "#export to csv\n",
    "df_serieA.to_csv(r'transcriptions\\italy_serie-a\\italy_serie-a_sentences_vader.csv', sep=';')"
   ]
  },
  {
   "cell_type": "markdown",
   "metadata": {},
   "source": [
    "# La Liga"
   ]
  },
  {
   "cell_type": "code",
   "execution_count": 24,
   "metadata": {},
   "outputs": [
    {
     "name": "stdout",
     "output_type": "stream",
     "text": [
      "transcriptions\\spain_laliga\\2014-2015\\2015-02-14 - 20-00 Real Madrid 2 - 0 Dep. La Coruna\\1_224p_medium_asr.json\n",
      "transcriptions\\spain_laliga\\2014-2015\\2015-05-09 - 19-00 Barcelona 2 - 0 Real Sociedad\\2_224p_medium_asr.json\n",
      "transcriptions\\spain_laliga\\2015-2016\\2015-09-26 - 19-15 Real Madrid 0 - 0 Malaga\\1_224p_medium_asr.json\n",
      "transcriptions\\spain_laliga\\2015-2016\\2016-01-24 - 22-30 Betis 1 - 1 Real Madrid\\2_224p_medium_asr.json\n",
      "transcriptions\\spain_laliga\\2015-2016\\2016-04-20 - 23-00 Real Madrid 3 - 0 Villarreal\\1_224p_medium_asr.json\n",
      "transcriptions\\spain_laliga\\2016-2017\\2016-09-21 - 23-00 Barcelona 1 - 1 Atl. Madrid\\2_224p_medium_asr.json\n",
      "transcriptions\\spain_laliga\\2016-2017\\2016-11-27 - 22-45 Real Sociedad 1 - 1 Barcelona\\1_224p_medium_asr.json\n",
      "transcriptions\\spain_laliga\\2016-2017\\2017-02-18 - 18-15 Real Madrid 2 - 0 Espanyol\\2_224p_medium_asr.json\n",
      "transcriptions\\spain_laliga\\2016-2017\\2017-04-02 - 21-45 Granada CF 1 - 4 Barcelona\\1_224p_medium_asr.json\n",
      "transcriptions\\spain_laliga\\2016-2017\\2017-05-14 - 21-00 Las Palmas 1 - 4 Barcelona\\2_224p_medium_asr.json\n"
     ]
    }
   ],
   "source": [
    "file_number=0\n",
    "files_data6 = []\n",
    "\n",
    "for directory, dirnames, filenames in os.walk(r'transcriptions\\spain_laliga'):\n",
    "    if filenames==[]:\n",
    "        continue\n",
    "    if 'other' in directory:\n",
    "        continue\n",
    "\n",
    "    for i in filenames:\n",
    "        if i.endswith('.csv'):\n",
    "            continue\n",
    "        if file_number%25==0:\n",
    "            print(os.path.join(directory,i))\n",
    "\n",
    "        file_number += 1\n",
    "        curr_file = SentimentIntensityFromFile(filename=i, path=directory)\n",
    "        curr_file.load_json()\n",
    "        curr_file.get_sentiments_from_sentences()\n",
    "        files_data6.append(curr_file)"
   ]
  },
  {
   "cell_type": "code",
   "execution_count": 25,
   "metadata": {},
   "outputs": [
    {
     "data": {
      "text/plain": [
       "234"
      ]
     },
     "execution_count": 25,
     "metadata": {},
     "output_type": "execute_result"
    }
   ],
   "source": [
    "#number of files\n",
    "file_number"
   ]
  },
  {
   "cell_type": "code",
   "execution_count": 26,
   "metadata": {},
   "outputs": [],
   "source": [
    "start_time = []\n",
    "end_time = []\n",
    "sentences_text = []\n",
    "sentiment_positive = []\n",
    "sentiment_negative = []\n",
    "sentiment_neutral = []\n",
    "sentiment_compound = []\n",
    "folder_names = []\n",
    "languages_orig = []\n",
    "\n",
    "for file in files_data6:    \n",
    "    for sent in file.sentences:\n",
    "        start_time.append(sent.start_time)\n",
    "        end_time.append(sent.end_time)\n",
    "        sentences_text.append(sent.text)\n",
    "        sentiment_positive.append(sent.positive)\n",
    "        sentiment_negative.append(sent.negative)\n",
    "        sentiment_neutral.append(sent.neutral)\n",
    "        sentiment_compound.append(sent.compound)\n",
    "        folder_names.append(file.folder_name)\n",
    "        # languages_orig.append(file.original_language)\n",
    "\n",
    "df_laliga = pd.DataFrame({'MATCH_FOLDER':folder_names, 'START_TIME':start_time,\n",
    "                    'END_TIME':end_time, 'TEXT':sentences_text,\n",
    "                    'POSITIVE':sentiment_positive,\n",
    "                    'NEGATIVE':sentiment_negative,\n",
    "                    'NEUTRAL':sentiment_neutral,\n",
    "                    'COMPOUND':sentiment_compound})\n"
   ]
  },
  {
   "cell_type": "code",
   "execution_count": 27,
   "metadata": {},
   "outputs": [],
   "source": [
    "#export to csv\n",
    "df_laliga.to_csv(r'transcriptions\\spain_laliga\\spain_laliga_sentences_vader.csv', sep=';')"
   ]
  }
 ],
 "metadata": {
  "kernelspec": {
   "display_name": "Python 3",
   "language": "python",
   "name": "python3"
  },
  "language_info": {
   "codemirror_mode": {
    "name": "ipython",
    "version": 3
   },
   "file_extension": ".py",
   "mimetype": "text/x-python",
   "name": "python",
   "nbconvert_exporter": "python",
   "pygments_lexer": "ipython3",
   "version": "3.7.9"
  }
 },
 "nbformat": 4,
 "nbformat_minor": 2
}
